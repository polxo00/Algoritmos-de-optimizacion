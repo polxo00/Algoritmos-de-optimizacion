{
  "cells": [
    {
      "cell_type": "markdown",
      "metadata": {
        "id": "view-in-github",
        "colab_type": "text"
      },
      "source": [
        "<a href=\"https://colab.research.google.com/github/polxo00/Algoritmos-de-optimizacion/blob/main/Seminario_Algoritmos.ipynb\" target=\"_parent\"><img src=\"https://colab.research.google.com/assets/colab-badge.svg\" alt=\"Open In Colab\"/></a>"
      ]
    },
    {
      "cell_type": "markdown",
      "metadata": {
        "id": "hVbXYX-RfPWh"
      },
      "source": [
        "# Algoritmos de optimización - Seminario<br>\n",
        "Nombre y Apellidos:   <br>\n",
        "Url: https://github.com/.../03MAIR---Algoritmos-de-Optimizacion---2019/tree/master/SEMINARIO<br>\n",
        "Problema:\n",
        "> 3. Combinar cifras y operaciones <br>\n",
        "\n",
        "\n",
        "Descripción del problema:\n",
        "\n",
        "Problema 3. Combinar cifras y operaciones\n",
        "\n",
        "• El problema consiste en analizar el siguiente problema y diseñar un algoritmo que lo resuelva.\n",
        "\n",
        "• Disponemos de las 9 cifras del 1 al 9 (excluimos el cero) y de los 4 signos básicos de las\n",
        "operaciones fundamentales: suma(+), resta(-), multiplicación(*) y división(/)\n",
        "\n",
        "• Debemos combinarlos alternativamente sin repetir ninguno de ellos para obtener una\n",
        "cantidad dada. Un ejemplo sería para obtener el 4:\n",
        "\n",
        "4+2-6/3*1 = 4\n",
        "\n",
        "• Debe analizarse el problema para encontrar todos los valores enteros posibles planteando las\n",
        "siguientes cuestiones:\n",
        "- ¿Qué valor máximo y mínimo se pueden obtener según las condiciones del problema?\n",
        "- ¿Es posible encontrar todos los valores enteros posibles entre dicho mínimo y máximo ?\n",
        "\n",
        "• Nota: Es posible usar la función de python “eval” para evaluar una expresión:\n",
        "\n",
        "expresion = \"4-2+6/3*1\"\n",
        "print(eval(expresion))\n",
        "\n",
        "(*) La respuesta es obligatoria\n",
        "\n",
        "\n",
        "\n",
        "\n",
        "\n",
        "                                        "
      ]
    },
    {
      "cell_type": "code",
      "execution_count": null,
      "metadata": {
        "id": "AiskKkzZfy4e"
      },
      "outputs": [],
      "source": []
    },
    {
      "cell_type": "markdown",
      "metadata": {
        "id": "3_-exlrTgLd-"
      },
      "source": [
        "(*)¿Cuantas posibilidades hay sin tener en cuenta las restricciones?<br>\n",
        "\n",
        "\n",
        "\n",
        "¿Cuantas posibilidades hay teniendo en cuenta todas las restricciones?\n",
        "\n",
        "\n"
      ]
    },
    {
      "cell_type": "markdown",
      "metadata": {
        "id": "WfCUqJyKhPcw"
      },
      "source": [
        "Antes de empezar, devemos tener en cuenta que como solo tenemos 4 operadores disponibles, solo vamos a poder utilizar 5 números de los 9 disponibles, por exemplo:\n",
        "\n",
        "n1 op1 n2 op2 n3 op3 n4 op4 n5\n",
        "\n",
        "Para el caso sin restricciones, vamos a tener que utilizar 5 cifras pudiendo repetir-las si es necessario, y 4 operadores, que tambien se van a poder repetir.\n",
        "\n",
        "En este caso, el numero de combinaciones de cifras se calcula con n^k siendo n el numero de cifras disponibles y k la cantidad de cifras que necessitamos.\n",
        "\n",
        "9^5 = 59049\n",
        "\n",
        "De la misma manera para los operadores donde tenemos 4 operadores disponibles y queremos hacer combinatorias de 4.\n",
        "\n",
        "4^4 = 256\n",
        "\n",
        "Por lo tanto, obtenemos el total de las combinaciones disponibles mulitplicando los dos resultados.\n",
        "\n",
        "Combinaciones sin restricciones = 59.049 * 256 = 15.118.464 combinaciones\n",
        "\n",
        "\n",
        "En el caso con restricciones, tendremos tambien 5 cifras y 4 operadores, pero no podemos repetir-los, tal y como indica el enunciado.\n",
        "\n",
        "Primero devemos calcular las combinaciones de operadores. Como los vamos a usar todos y no los podemos repetir, la unica opcion es cambiar-los de posición, y por lo tanto, las combinaciones possibles es el factorial del numero total de operadores:\n",
        "\n",
        "4!=24\n",
        "\n",
        "Para las cifras, debemos escoger 5 de las 9 disponibles y teniendo en cuenta el orden de ellas y sin repetir. Por lo tanto, calculamos las opciones de la siguiente forma.\n",
        "\n",
        "permutaciones de 5 cifras = 9*8*7*6*5 = 15120\n",
        "\n",
        "Se calcula de esta forma porque en la primera posicion vamos a tener 9 opciones disponibles, en la segunda posicion solo tendremos 8 y así succesivamente.\n",
        "\n",
        "Juntando las dos combinaciones tenemos que el total de combinaciones sin restricciones es el siguiente:\n",
        "\n",
        "15120 x 24 = 362880\n"
      ]
    },
    {
      "cell_type": "code",
      "execution_count": null,
      "metadata": {
        "id": "XG9eEmDZSv6u"
      },
      "outputs": [],
      "source": []
    },
    {
      "cell_type": "code",
      "execution_count": null,
      "metadata": {
        "colab": {
          "base_uri": "https://localhost:8080/"
        },
        "id": "iq6Fe32MgpDX",
        "outputId": "63f2f7ad-b397-4770-ff39-5f9ed03faa81"
      },
      "outputs": [
        {
          "name": "stdout",
          "output_type": "stream",
          "text": [
            "10293358946226376485095653\n"
          ]
        }
      ],
      "source": []
    },
    {
      "cell_type": "markdown",
      "metadata": {
        "id": "dzynfVJahHoY"
      },
      "source": [
        "Modelo para el espacio de soluciones<br>\n",
        "(*) ¿Cual es la estructura de datos que mejor se adapta al problema? Argumentalo.(Es posible que hayas elegido una al principio y veas la necesidad de cambiar, arguentalo)\n"
      ]
    },
    {
      "cell_type": "markdown",
      "metadata": {
        "id": "xFIJrOwKi2Ti"
      },
      "source": [
        "Para evaluar las expresiones voy a utilizar strings que me permiten evaluar el resultado con la herramienta eval."
      ]
    },
    {
      "cell_type": "code",
      "execution_count": null,
      "metadata": {
        "id": "38c-7-ejhJmA"
      },
      "outputs": [],
      "source": []
    },
    {
      "cell_type": "markdown",
      "metadata": {
        "id": "7Z9U2W7bi-XS"
      },
      "source": [
        "Según el modelo para el espacio de soluciones<br>\n",
        "(*)¿Cual es la función objetivo?\n",
        "\n",
        "(*)¿Es un problema de maximización o minimización?"
      ]
    },
    {
      "cell_type": "markdown",
      "metadata": {
        "id": "hBalWLM7j1_d"
      },
      "source": [
        "La función objetivo es encontrar una expresión que al evaluarse produzca un valor igual al número objetivo.\n",
        "\n",
        "Por otro lado, este no es un problema de maximización ni de minimización ya que el objetivo es encontrar todas las soluciones que cumplen con las condiciones. Por lo tanto, se trata de un problema de exploración de soluciones. Esto es devido a que su fin no es optimizar, sino que es encontrar las soluciones posibles."
      ]
    },
    {
      "cell_type": "code",
      "execution_count": null,
      "metadata": {
        "id": "NZ2rzJOqKb5u"
      },
      "outputs": [],
      "source": []
    },
    {
      "cell_type": "code",
      "execution_count": null,
      "metadata": {
        "id": "d_JohPbWKag2"
      },
      "outputs": [],
      "source": []
    },
    {
      "cell_type": "code",
      "execution_count": null,
      "metadata": {
        "id": "pDA-rg3Gj5Lz"
      },
      "outputs": [],
      "source": []
    },
    {
      "cell_type": "markdown",
      "metadata": {
        "id": "rlnTYgY1j6I2"
      },
      "source": [
        "Diseña un algoritmo para resolver el problema por fuerza bruta"
      ]
    },
    {
      "cell_type": "markdown",
      "metadata": {
        "id": "70rDgxYXkC8r"
      },
      "source": [
        "Respuesta"
      ]
    },
    {
      "cell_type": "code",
      "execution_count": 40,
      "metadata": {
        "colab": {
          "base_uri": "https://localhost:8080/"
        },
        "id": "4KANkXikNGFe",
        "outputId": "6256d993-5199-4b3b-be0a-70f304d83701"
      },
      "outputs": [
        {
          "output_type": "stream",
          "name": "stdout",
          "text": [
            "Tiempo de ejecución: 2.1325151119999646 segundos\n",
            "Numero total de iteraciones: 362880\n",
            "Cantidad de valores enteros distintos encontrados: 147\n",
            "Valores mínimos y máximos: -69, 77\n",
            "\n",
            "\n",
            "Cantidad de expresiones correctas encontradas: 80\n",
            "Expresiones correctas encontradas: {'9*8-4/2+6', '6+8*9-4/2', '6+9*8-2/1', '7-3/1+8*9', '6-4/2+9*8', '9*8+6/1-2', '7-6/2+9*8', '8/1*9+6-2', '7-3+9*8/1', '8*9/1-3+7', '9*8-3/1+7', '7/1+9*8-3', '7+8/1*9-3', '8*9+7-3/1', '8/1*9-3+7', '6-2+8*9/1', '7+9*8-6/2', '8*9/1-2+6', '7-3+8/1*9', '9*8-3+7/1', '6/1-2+8*9', '9*8/1-2+6', '9/1*8+7-3', '8*9+7/1-3', '6+9*8-4/2', '6+8/1*9-2', '6+8*9/1-2', '9*8/1+7-3', '6+8*9-2/1', '8*9-2+6/1', '7-6/2+8*9', '7+8*9-3/1', '9*8/1+6-2', '9*8/1-3+7', '7+9*8-3/1', '8*9/1+7-3', '8*9+6-4/2', '7/1+8*9-3', '8*9-4/2+6', '9*8+7-3/1', '9*8-2/1+6', '9*8+7/1-3', '7+9*8/1-3', '8*9+7-6/2', '6-2+9*8/1', '8*9-6/2+7', '8*9-3/1+7', '8*9-2/1+6', '6+9*8/1-2', '7+9/1*8-3', '7+8*9-6/2', '8*9+6/1-2', '8/1*9+7-3', '6-2+8/1*9', '9*8+6-4/2', '8/1*9-2+6', '6-4/2+8*9', '9*8+7-6/2', '6/1+8*9-2', '7-3/1+9*8', '7-3+8*9/1', '9/1*8-2+6', '7/1-3+9*8', '6+9/1*8-2', '6-2/1+9*8', '7+8*9/1-3', '9/1*8-3+7', '9*8-6/2+7', '6/1+9*8-2', '9*8+6-2/1', '8*9-3+7/1', '6-2/1+8*9', '7/1-3+8*9', '8*9/1+6-2', '7-3+9/1*8', '9/1*8+6-2', '6/1-2+9*8', '6-2+9/1*8', '8*9+6-2/1', '9*8-2+6/1'}\n"
          ]
        }
      ],
      "source": [
        "import pandas as pd\n",
        "from google.colab import files\n",
        "import time\n",
        "\n",
        "start = time.perf_counter()\n",
        "def permutaciones(lista, n):\n",
        "    if n == 0:\n",
        "        return [[]]\n",
        "    resultado = []\n",
        "    for i in range(len(lista)):\n",
        "        elem = lista[i]\n",
        "        resto = lista[:i] + lista[i+1:]\n",
        "        for p in permutaciones(resto, n-1):\n",
        "            resultado.append([elem] + p)\n",
        "    return resultado\n",
        "\n",
        "cifras = ['1','2','3','4','5','6','7','8','9']\n",
        "operadores = ['+', '-', '*', '/']\n",
        "objetivo =76\n",
        "resultados_enteros = set()\n",
        "expresiones_correctas = set()\n",
        "perms_cifras = permutaciones(cifras, 5)\n",
        "perms_ops = permutaciones(operadores, 4)\n",
        "\n",
        "total = len(perms_cifras) * len(perms_ops)\n",
        "contador = 0\n",
        "\n",
        "for num in perms_cifras:\n",
        "    for ops in perms_ops:\n",
        "        expr = f\"{num[0]}{ops[0]}{num[1]}{ops[1]}{num[2]}{ops[2]}{num[3]}{ops[3]}{num[4]}\"\n",
        "        try:\n",
        "            val = eval(expr)\n",
        "            if val == int(val):\n",
        "              resultados_enteros.add(int(val))\n",
        "            if val == objetivo:\n",
        "              expresiones_correctas.add(expr)\n",
        "        except ZeroDivisionError:\n",
        "            continue\n",
        "        contador += 1\n",
        "        #if contador % 10000 == 0:\n",
        "            #print(f\"Progreso: {contador}/{total} — Soluciones encontradas: {len(expresiones_correctas)}\")\n",
        "end = time.perf_counter()\n",
        "\n",
        "print(f\"Tiempo de ejecución: {end - start} segundos\")\n",
        "\n",
        "print(f\"Numero total de iteraciones: {contador}\")\n",
        "print(f\"Cantidad de valores enteros distintos encontrados: {len(resultados_enteros)}\")\n",
        "print(f\"Valores mínimos y máximos: {min(resultados_enteros)}, {max(resultados_enteros)}\")\n",
        "print(\"\\n\")\n",
        "print(f\"Cantidad de expresiones correctas encontradas: {len(expresiones_correctas)}\")\n",
        "print(f\"Expresiones correctas encontradas: {expresiones_correctas}\")\n",
        "\n",
        "df = pd.DataFrame(sorted(resultados_enteros), columns=[\"Resultados\"])\n",
        "\n",
        "df.to_csv(\"resultados_enteros.csv\", index=False)\n",
        "\n",
        "#files.download(\"resultados_enteros.csv\")\n",
        "\n"
      ]
    },
    {
      "cell_type": "code",
      "execution_count": null,
      "metadata": {
        "colab": {
          "base_uri": "https://localhost:8080/"
        },
        "id": "UrD8EubJUZhx",
        "outputId": "97640779-05a0-4d35-d589-fe7f15bbb380"
      },
      "outputs": [
        {
          "data": {
            "text/plain": [
              "20.0"
            ]
          },
          "execution_count": 39,
          "metadata": {},
          "output_type": "execute_result"
        }
      ],
      "source": []
    },
    {
      "cell_type": "markdown",
      "metadata": {
        "id": "tgrnsC2nkFa8"
      },
      "source": [
        "Calcula la complejidad del algoritmo por fuerza bruta"
      ]
    },
    {
      "cell_type": "markdown",
      "metadata": {
        "id": "9eUd3xwckP68"
      },
      "source": [
        "Respuesta"
      ]
    },
    {
      "cell_type": "code",
      "execution_count": null,
      "metadata": {
        "id": "rvZWwL-ckRST"
      },
      "outputs": [],
      "source": []
    },
    {
      "cell_type": "markdown",
      "metadata": {
        "id": "txbrmLmskReM"
      },
      "source": [
        "(*)Diseña un algoritmo que mejore la complejidad del algortimo por fuerza bruta. Argumenta porque crees que mejora el algoritmo por fuerza bruta"
      ]
    },
    {
      "cell_type": "markdown",
      "metadata": {
        "id": "hLrVwt5QkZPD"
      },
      "source": [
        "Respuesta"
      ]
    },
    {
      "cell_type": "code",
      "execution_count": null,
      "metadata": {
        "colab": {
          "base_uri": "https://localhost:8080/"
        },
        "id": "m1eyM21Vkabg",
        "outputId": "14e2ba0f-30c8-40ad-af1d-f38db9e08e06"
      },
      "outputs": [
        {
          "name": "stdout",
          "output_type": "stream",
          "text": [
            "Tiempo de ejecución: 0.48368942700017215 segundos\n",
            "Numero total de iteraciones: 51840\n",
            "Cantidad de valores enteros distintos encontrados: 136\n",
            "Valores mínimos y máximos: -68, 77\n",
            "\n",
            "\n",
            "Cantidad de expresiones correctas encontradas: 80\n",
            "Expresiones correctas encontradas: {'9*8/1-2+6', '9/1*8-2+6', '8/1*9+7-3', '7-3+9*8/1', '7-3/1+8*9', '8/1*9-3+7', '6+8/1*9-2', '7-3/1+9*8', '7+8*9-6/2', '7+8/1*9-3', '9*8-2+6/1', '9*8+7-6/2', '8*9+6-4/2', '9*8/1+6-2', '8*9-3/1+7', '7-6/2+9*8', '7+9*8-6/2', '7+9*8/1-3', '7+8*9-3/1', '8*9/1-3+7', '9*8/1+7-3', '6+9*8-2/1', '9*8+6-4/2', '8/1*9+6-2', '8*9/1+6-2', '7/1-3+8*9', '6/1-2+9*8', '8*9-2+6/1', '8*9/1-2+6', '9/1*8-3+7', '8*9/1+7-3', '9/1*8+6-2', '6+9*8-4/2', '6/1+8*9-2', '7-3+8*9/1', '9*8/1-3+7', '7/1+8*9-3', '6-2+9/1*8', '8*9-4/2+6', '8*9+7-3/1', '7+8*9/1-3', '9*8+6/1-2', '7+9*8-3/1', '8*9+7-6/2', '6-4/2+9*8', '9/1*8+7-3', '6-2+9*8/1', '6/1-2+8*9', '7-3+8/1*9', '6-2+8/1*9', '9*8+7/1-3', '9*8-3/1+7', '9*8+6-2/1', '8*9+6/1-2', '9*8+7-3/1', '9*8-2/1+6', '9*8-3+7/1', '8*9-6/2+7', '6-2/1+9*8', '6-2+8*9/1', '6+8*9-4/2', '8*9-3+7/1', '6+8*9-2/1', '7+9/1*8-3', '9*8-4/2+6', '8*9+7/1-3', '6+9*8/1-2', '7-3+9/1*8', '9*8-6/2+7', '8*9-2/1+6', '8*9+6-2/1', '6/1+9*8-2', '6+8*9/1-2', '7-6/2+8*9', '6-2/1+8*9', '7/1-3+9*8', '6+9/1*8-2', '7/1+9*8-3', '6-4/2+8*9', '8/1*9-2+6'}\n"
          ]
        }
      ],
      "source": [
        "import pandas as pd\n",
        "from google.colab import files\n",
        "import time\n",
        "\n",
        "start = time.perf_counter()\n",
        "\n",
        "def esprometedora(num):\n",
        "  num = list(map(int, num))\n",
        "  n0, n1, n2, n3, n4 = sorted(num)\n",
        "  lim_sup = (n4 * n3) + n2 - (n1 / n0)\n",
        "  lim_inf = (n0 * n1) - n4 + (n3 / n2)\n",
        "\n",
        "  if lim_sup < objetivo or lim_inf > objetivo:\n",
        "    return False\n",
        "  return True\n",
        "\n",
        "\n",
        "\n",
        "\n",
        "def permutaciones(lista, n):\n",
        "    if n == 0:\n",
        "        return [[]]\n",
        "    resultado = []\n",
        "    for i in range(len(lista)):\n",
        "        elem = lista[i]\n",
        "        resto = lista[:i] + lista[i+1:]\n",
        "        for p in permutaciones(resto, n-1):\n",
        "            resultado.append([elem] + p)\n",
        "    return resultado\n",
        "\n",
        "\n",
        "\n",
        "cifras = ['1','2','3','4','5','6','7','8','9']\n",
        "operadores = ['+', '-', '*', '/']\n",
        "objetivo =76\n",
        "resultados_enteros = set()\n",
        "expresiones_correctas = set()\n",
        "\n",
        "perms_cifras = permutaciones(cifras, 5)\n",
        "perms_ops = permutaciones(operadores, 4)\n",
        "\n",
        "total = len(perms_cifras) * len(perms_ops)\n",
        "contador = 0\n",
        "\n",
        "for num in perms_cifras:\n",
        "  if esprometedora(num):\n",
        "    for ops in perms_ops:\n",
        "        expr = f\"{num[0]}{ops[0]}{num[1]}{ops[1]}{num[2]}{ops[2]}{num[3]}{ops[3]}{num[4]}\"\n",
        "        try:\n",
        "            val = eval(expr)\n",
        "            if val == int(val):\n",
        "              resultados_enteros.add(int(val))\n",
        "            if val == objetivo:\n",
        "              expresiones_correctas.add(expr)\n",
        "        except ZeroDivisionError:\n",
        "            continue\n",
        "        contador += 1\n",
        "        #if contador % 10000 == 0:\n",
        "            #print(f\"Progreso: {contador}/{total} — Soluciones encontradas: {len(expresiones_correctas)}\")\n",
        "end = time.perf_counter()\n",
        "\n",
        "print(f\"Tiempo de ejecución: {end - start} segundos\")\n",
        "\n",
        "print(f\"Numero total de iteraciones: {contador}\")\n",
        "print(f\"Cantidad de valores enteros distintos encontrados: {len(resultados_enteros)}\")\n",
        "print(f\"Valores mínimos y máximos: {min(resultados_enteros)}, {max(resultados_enteros)}\")\n",
        "print(\"\\n\")\n",
        "print(f\"Cantidad de expresiones correctas encontradas: {len(expresiones_correctas)}\")\n",
        "print(f\"Expresiones correctas encontradas: {expresiones_correctas}\")\n",
        "\n",
        "df = pd.DataFrame(sorted(resultados_enteros), columns=[\"Resultados\"])\n",
        "\n",
        "df.to_csv(\"resultados_enteros.csv\", index=False)\n",
        "\n",
        "#files.download(\"resultados_enteros.csv\")\n"
      ]
    },
    {
      "cell_type": "markdown",
      "metadata": {
        "id": "JzvlKrR1fAYb"
      },
      "source": [
        "Podem crear una funció recursiva que:\n",
        "\n",
        "En cada pas, tria un número restant i un operador restant.\n",
        "\n",
        "Calcula el valor parcial de l'expressió fins ara.\n",
        "\n",
        "Poda si el valor parcial està lluny de l'objectiu (segons algun criteri).\n",
        "\n",
        "Només si és \"prometedora\", segueix expandint."
      ]
    },
    {
      "cell_type": "code",
      "execution_count": null,
      "metadata": {
        "colab": {
          "base_uri": "https://localhost:8080/"
        },
        "id": "gCEQWwF8c0tM",
        "outputId": "1365846f-a117-4972-9a99-03e59c302a78"
      },
      "outputs": [
        {
          "name": "stdout",
          "output_type": "stream",
          "text": [
            "Tiempo de ejecución: 0.47008960799939814 segundos\n",
            "Número total de iteraciones evaluadas: 51840\n",
            "Cantidad de expresiones correctas encontradas: 80\n",
            "\n",
            "Cantidad de valores enteros distintos encontrados: 1\n",
            "Valores mínimos y máximos: 76, 76\n"
          ]
        }
      ],
      "source": [
        "\n",
        "def aplicar_operacion(a, op, b):\n",
        "    try:\n",
        "        if op == '+':\n",
        "            return a + b\n",
        "        elif op == '-':\n",
        "            return a - b\n",
        "        elif op == '*':\n",
        "            return a * b\n",
        "        elif op == '/':\n",
        "            if b == 0:\n",
        "                return None\n",
        "            return a / b\n",
        "    except:\n",
        "        return None\n",
        "\n",
        "def evaluar_expresion(nums, ops):\n",
        "    expr = f\"{nums[0]}{ops[0]}{nums[1]}{ops[1]}{nums[2]}{ops[2]}{nums[3]}{ops[3]}{nums[4]}\"\n",
        "    try:\n",
        "        val = eval(expr)\n",
        "        return val, expr\n",
        "    except ZeroDivisionError:\n",
        "        return None, None\n",
        "    except:\n",
        "        return None, None\n",
        "\n"
      ]
    },
    {
      "cell_type": "code",
      "execution_count": 66,
      "metadata": {
        "colab": {
          "base_uri": "https://localhost:8080/"
        },
        "id": "kI0tPiK2fcin",
        "outputId": "410a431c-ad7f-444c-9560-8b3636def3e2"
      },
      "outputs": [
        {
          "output_type": "stream",
          "name": "stdout",
          "text": [
            "\n",
            "Solucions trobades:\n",
            "\n",
            "Total: 80 solucions\n"
          ]
        }
      ],
      "source": [
        "\n",
        "RESULTAT_OBJECTIU = 76  # Canvia a None per trobar tots els resultats enters\n",
        "resultats = set()\n",
        "\n",
        "def es_prometedora(solucion, etapa, operadors_restants):\n",
        "    expr = ''.join(str(e) for e in solucion)\n",
        "    expr_menys_ultim = ''.join(str(e) for e in solucion[:-1])\n",
        "\n",
        "    try:\n",
        "        if etapa % 2 == 0:\n",
        "            resultado_parcial = eval(expr)\n",
        "        else:\n",
        "            resultado_parcial = eval(expr_menys_ultim)\n",
        "    except ZeroDivisionError:\n",
        "        return True\n",
        "\n",
        "    if etapa == 4:\n",
        "        # Els dos operadors restants han de ser exactament aquests\n",
        "        if set(operadors_restants) == {\"*\", \"+\"} and resultado_parcial >= RESULTAT_OBJECTIU:\n",
        "            return False\n",
        "\n",
        "        elif set(operadors_restants) == {\"/\", \"-\"} and resultado_parcial <= RESULTAT_OBJECTIU:\n",
        "            return False\n",
        "\n",
        "\n",
        "    elif etapa == 5:\n",
        "        # Els dos operadors restants han de ser exactament aquests\n",
        "        if (solucion[-1] == \"*\" and operadors_restants[0] == \"+\") and resultado_parcial >= RESULTAT_OBJECTIU:\n",
        "            return False\n",
        "        elif (solucion[-1] == \"/\" and operadors_restants[0] == \"-\") and resultado_parcial <= RESULTAT_OBJECTIU:\n",
        "            return False\n",
        "\n",
        "    elif etapa == 6:\n",
        "        # Aquí només cal que un dels operadors restants sigui al conjunt\n",
        "\n",
        "        if any(op in {\"*\", \"+\"} for op in operadors_restants) and resultado_parcial >= RESULTAT_OBJECTIU:\n",
        "            return False\n",
        "        if any(op in {\"-\"} for op in operadors_restants) and resultado_parcial <= RESULTAT_OBJECTIU:\n",
        "            return False\n",
        "\n",
        "    return True\n",
        "\n",
        "\n",
        "\n",
        "def generar_expressions(etapa=0, solucion=[], nums_restants=None, ops_restants=None):\n",
        "    if nums_restants is None:\n",
        "        nums_restants = [1, 2, 3, 4, 5, 6, 7, 8, 9]\n",
        "    if ops_restants is None:\n",
        "        ops_restants = ['+', '-', '*', '/']\n",
        "\n",
        "    if etapa == 9:\n",
        "        expressio = ''.join(str(e) for e in solucion)\n",
        "        try:\n",
        "            resultat = eval(expressio)\n",
        "            if isinstance(resultat, (int, float)) and resultat == int(resultat):\n",
        "                resultat = int(resultat)\n",
        "                if RESULTAT_OBJECTIU is None or resultat == RESULTAT_OBJECTIU:\n",
        "                    resultats.add(f\"{expressio} = {resultat}\")\n",
        "        except ZeroDivisionError:\n",
        "            pass\n",
        "        return\n",
        "\n",
        "    if etapa % 2 == 0:\n",
        "        # Posició de xifra: agafa una de les disponibles\n",
        "        for i, num in enumerate(nums_restants):\n",
        "            solucion.append(num)\n",
        "            nova_lla = nums_restants[:i] + nums_restants[i+1:]\n",
        "            if es_prometedora(solucion, etapa, ops_restants):\n",
        "                generar_expressions(etapa+1, solucion, nova_lla, ops_restants)\n",
        "            solucion.pop()\n",
        "    else:\n",
        "        # Posició d’operador: agafa un dels restants\n",
        "        for i, op in enumerate(ops_restants):\n",
        "            solucion.append(op)\n",
        "            nova_ops = ops_restants[:i] + ops_restants[i+1:]\n",
        "            if es_prometedora(solucion, etapa, nova_ops):\n",
        "                generar_expressions(etapa+1, solucion, nums_restants, nova_ops)\n",
        "            solucion.pop()\n",
        "# --- Executar ---\n",
        "generar_expressions()\n",
        "\n",
        "print(\"\\nSolucions trobades:\")\n",
        "\n",
        "\n",
        "print(f\"\\nTotal: {len(resultats)} solucions\")\n"
      ]
    },
    {
      "cell_type": "code",
      "source": [
        "def es_prometedora(solucion, etapa, operadors_restants):\n",
        "    # Converteix la llista en una expressió string\n",
        "    expr = ''.join(str(e) for e in solucion)\n",
        "    expr_menys_ultim = ''.join(str(e) for e in solucion[:-1])\n",
        "\n",
        "    if etapa == 4:\n",
        "        resultado_parcial = eval(expr)\n",
        "        if set(operadors_restants) == {\"*\", \"+\"} and resultado_parcial >= RESULTAT_OBJECTIU:\n",
        "            return False\n",
        "        elif set(operadors_restants) == {\"/\", \"-\"} and resultado_parcial <= RESULTAT_OBJECTIU:\n",
        "            return False\n",
        "        else:\n",
        "            return True\n",
        "\n",
        "    elif etapa == 5:\n",
        "        resultado_parcial = eval(expr_menys_ultim)\n",
        "        if (solucion[-1] == \"*\" and operadors_restants[0] == \"+\") and resultado_parcial >= RESULTAT_OBJECTIU:\n",
        "            return False\n",
        "        elif (solucion[-1] == \"/\" and operadors_restants[0] == \"-\") and resultado_parcial <= RESULTAT_OBJECTIU:\n",
        "            return False\n",
        "        else:\n",
        "            return True\n",
        "\n",
        "    elif etapa == 6:\n",
        "        resultado_parcial = eval(expr)\n",
        "        if operadors_restants[0] in {\"*\", \"+\"} and resultado_parcial >= RESULTAT_OBJECTIU:\n",
        "            return False\n",
        "        elif operadors_restants[0] in {\"/\", \"-\"} and resultado_parcial <= RESULTAT_OBJECTIU:\n",
        "            return False\n",
        "        else:\n",
        "            return True\n",
        "\n",
        "    elif etapa == 7:\n",
        "        resultado_parcial = eval(expr_menys_ultim)\n",
        "        if (solucion[-1] in {\"*\", \"+\"}) and resultado_parcial >= RESULTAT_OBJECTIU:\n",
        "            return False\n",
        "        elif (solucion[-1] in {\"/\", \"-\"}) and resultado_parcial <= RESULTAT_OBJECTIU:\n",
        "            return False\n",
        "        else:\n",
        "            return True\n",
        "\n",
        "    else:\n",
        "        return True"
      ],
      "metadata": {
        "id": "XxnNJ8qdYl5f"
      },
      "execution_count": null,
      "outputs": []
    },
    {
      "cell_type": "markdown",
      "metadata": {
        "id": "eGDB4K6uk1iN"
      },
      "source": [
        "(*)Calcula la complejidad del algoritmo"
      ]
    },
    {
      "cell_type": "markdown",
      "metadata": {
        "id": "NhpTh_BPk1ms"
      },
      "source": [
        "Respuesta"
      ]
    },
    {
      "cell_type": "code",
      "execution_count": null,
      "metadata": {
        "id": "nREzhkStlCq8"
      },
      "outputs": [],
      "source": []
    },
    {
      "cell_type": "markdown",
      "metadata": {
        "id": "3M6QjTsSkmYe"
      },
      "source": [
        "Según el problema (y tenga sentido), diseña un juego de datos de entrada aleatorios"
      ]
    },
    {
      "cell_type": "markdown",
      "metadata": {
        "id": "Jc3_OlyNkvjZ"
      },
      "source": [
        "Respuesta"
      ]
    },
    {
      "cell_type": "code",
      "execution_count": null,
      "metadata": {
        "id": "sJ-N2etjkyWc"
      },
      "outputs": [],
      "source": []
    },
    {
      "cell_type": "markdown",
      "metadata": {
        "id": "zy5ZROmjlGo1"
      },
      "source": [
        "Aplica el algoritmo al juego de datos generado"
      ]
    },
    {
      "cell_type": "markdown",
      "metadata": {
        "id": "_Cmj-PVylMsa"
      },
      "source": [
        "Respuesta"
      ]
    },
    {
      "cell_type": "code",
      "execution_count": null,
      "metadata": {
        "id": "Jkx8GeiYlUz1"
      },
      "outputs": [],
      "source": []
    },
    {
      "cell_type": "markdown",
      "metadata": {
        "id": "eTFWUJQrtGcv"
      },
      "source": [
        "Enumera las referencias que has utilizado(si ha sido necesario) para llevar a cabo el trabajo"
      ]
    },
    {
      "cell_type": "markdown",
      "metadata": {
        "id": "YKQ_mRBttWsP"
      },
      "source": [
        "Respuesta"
      ]
    },
    {
      "cell_type": "markdown",
      "metadata": {
        "id": "kAkDPUyRtYyH"
      },
      "source": [
        "Describe brevemente las lineas de como crees que es posible avanzar en el estudio del problema. Ten en cuenta incluso posibles variaciones del problema y/o variaciones al alza del tamaño"
      ]
    },
    {
      "cell_type": "markdown",
      "metadata": {
        "id": "IE0uZmo-tZu-"
      },
      "source": [
        "Respuesta"
      ]
    },
    {
      "cell_type": "code",
      "execution_count": null,
      "metadata": {
        "id": "awZkQR1TBmVe"
      },
      "outputs": [],
      "source": [
        "\n",
        "\n"
      ]
    },
    {
      "cell_type": "code",
      "execution_count": null,
      "metadata": {
        "id": "a5XoargzB-TM"
      },
      "outputs": [],
      "source": []
    }
  ],
  "metadata": {
    "colab": {
      "provenance": [],
      "include_colab_link": true
    },
    "kernelspec": {
      "display_name": "Python 3",
      "name": "python3"
    }
  },
  "nbformat": 4,
  "nbformat_minor": 0
}